{
 "cells": [
  {
   "cell_type": "markdown",
   "id": "85b413ed-cb23-4316-9d6f-7ce3f813496b",
   "metadata": {},
   "source": [
    "# Brand Awareness: Forecasting the Impact of Ridership at Subway Stations\n",
    "\n",
    "## Abstract\n",
    "\n",
    "Pop-up store became one of the popular marketing strategies that allow many companies to increase their brand awareness and offerings without long-term investment. The goal of this project is to use transit data from Metropolitan Transportation Authority in New York to help a California-based technology company increase brand awareness of their recently acquired gaming company. My findings, including visualizations, provide a solution for the company to target and optimize their pop-up stores at the top 5 subway stations with highest ridership.\n",
    "\n",
    "## Design\n",
    "\n",
    "The company is planning to launch pop-up stores during the first quarter of 2023. I use the datasets from January 2022 to March 2022 to help the company set a clear vision and execute a strategic plan of exhibiting pop-up stores next year. By gathering and analyzing the data, the company would be able to display their pop-up stores near the subway stations each day to achieve maximum brand exposure. \n",
    "\n",
    "## Data\n",
    "\n",
    "The data is provided by Metropolitan Transportation Authority (MTA), a public transportation corporation in New York City. Datasets are collected from January 2022 to March 2022. These include the name of the stations, entrance, exit, division, date, and time. The entries column in the dataset is cumulative entries. \n",
    "\n",
    "## Algorithms\n",
    "\n",
    "- Query data from SQLite into Python via SQLAlchemy\n",
    "- Data Cleaning: remove duplicate rows and null values\n",
    "- Calculate daily entries for each station\n",
    "- Calculate the total number of entries for each station to highlight the top 5 stations with highest ridership on weekdays and weekends and analyzed the results. \n",
    "\n",
    "## Tools\n",
    "\n",
    "- SQLAlchemy\n",
    "- Matplotlib for data visualization\n",
    "- Pandas for data analysis\n",
    "\n",
    "## Communications\n",
    "\n",
    "Presentation slides and codes are in this project's repository."
   ]
  }
 ],
 "metadata": {
  "kernelspec": {
   "display_name": "Python [conda env:metis] *",
   "language": "python",
   "name": "conda-env-metis-py"
  },
  "language_info": {
   "codemirror_mode": {
    "name": "ipython",
    "version": 3
   },
   "file_extension": ".py",
   "mimetype": "text/x-python",
   "name": "python",
   "nbconvert_exporter": "python",
   "pygments_lexer": "ipython3",
   "version": "3.10.4"
  }
 },
 "nbformat": 4,
 "nbformat_minor": 5
}
